{
 "cells": [
  {
   "cell_type": "code",
   "execution_count": 22,
   "id": "e4f9123c",
   "metadata": {},
   "outputs": [],
   "source": [
    "import matplotlib.pyplot as plt\n",
    "import pandas as pd\n",
    "import seaborn as sns\n",
    "import numpy as np\n",
    "from IPython.display import display\n",
    "%matplotlib inline\n",
    "\n",
    "\n",
    "import warnings\n",
    "warnings.filterwarnings(\"ignore\")"
   ]
  },
  {
   "cell_type": "code",
   "execution_count": 6,
   "id": "18ba9b02",
   "metadata": {},
   "outputs": [],
   "source": [
    "# load in the dataset into a pandas dataframe, print statistics\n",
    "data_path = '201902-fordgobike-tripdata.csv'\n",
    "df = pd.read_csv(data_path)"
   ]
  },
  {
   "cell_type": "code",
   "execution_count": 7,
   "id": "07d90561",
   "metadata": {},
   "outputs": [
    {
     "name": "stdout",
     "output_type": "stream",
     "text": [
      "(183412, 16) \n",
      "\n",
      "duration_sec                 int64\n",
      "start_time                  object\n",
      "end_time                    object\n",
      "start_station_id           float64\n",
      "start_station_name          object\n",
      "start_station_latitude     float64\n",
      "start_station_longitude    float64\n",
      "end_station_id             float64\n",
      "end_station_name            object\n",
      "end_station_latitude       float64\n",
      "end_station_longitude      float64\n",
      "bike_id                      int64\n",
      "user_type                   object\n",
      "member_birth_year          float64\n",
      "member_gender               object\n",
      "bike_share_for_all_trip     object\n",
      "dtype: object \n",
      "\n"
     ]
    },
    {
     "data": {
      "text/html": [
       "<div>\n",
       "<style scoped>\n",
       "    .dataframe tbody tr th:only-of-type {\n",
       "        vertical-align: middle;\n",
       "    }\n",
       "\n",
       "    .dataframe tbody tr th {\n",
       "        vertical-align: top;\n",
       "    }\n",
       "\n",
       "    .dataframe thead th {\n",
       "        text-align: right;\n",
       "    }\n",
       "</style>\n",
       "<table border=\"1\" class=\"dataframe\">\n",
       "  <thead>\n",
       "    <tr style=\"text-align: right;\">\n",
       "      <th></th>\n",
       "      <th>duration_sec</th>\n",
       "      <th>start_time</th>\n",
       "      <th>end_time</th>\n",
       "      <th>start_station_id</th>\n",
       "      <th>start_station_name</th>\n",
       "      <th>start_station_latitude</th>\n",
       "      <th>start_station_longitude</th>\n",
       "      <th>end_station_id</th>\n",
       "      <th>end_station_name</th>\n",
       "      <th>end_station_latitude</th>\n",
       "      <th>end_station_longitude</th>\n",
       "      <th>bike_id</th>\n",
       "      <th>user_type</th>\n",
       "      <th>member_birth_year</th>\n",
       "      <th>member_gender</th>\n",
       "      <th>bike_share_for_all_trip</th>\n",
       "    </tr>\n",
       "  </thead>\n",
       "  <tbody>\n",
       "    <tr>\n",
       "      <th>0</th>\n",
       "      <td>52185</td>\n",
       "      <td>2019-02-28 17:32:10.1450</td>\n",
       "      <td>2019-03-01 08:01:55.9750</td>\n",
       "      <td>21.0</td>\n",
       "      <td>Montgomery St BART Station (Market St at 2nd St)</td>\n",
       "      <td>37.789625</td>\n",
       "      <td>-122.400811</td>\n",
       "      <td>13.0</td>\n",
       "      <td>Commercial St at Montgomery St</td>\n",
       "      <td>37.794231</td>\n",
       "      <td>-122.402923</td>\n",
       "      <td>4902</td>\n",
       "      <td>Customer</td>\n",
       "      <td>1984.0</td>\n",
       "      <td>Male</td>\n",
       "      <td>No</td>\n",
       "    </tr>\n",
       "    <tr>\n",
       "      <th>1</th>\n",
       "      <td>42521</td>\n",
       "      <td>2019-02-28 18:53:21.7890</td>\n",
       "      <td>2019-03-01 06:42:03.0560</td>\n",
       "      <td>23.0</td>\n",
       "      <td>The Embarcadero at Steuart St</td>\n",
       "      <td>37.791464</td>\n",
       "      <td>-122.391034</td>\n",
       "      <td>81.0</td>\n",
       "      <td>Berry St at 4th St</td>\n",
       "      <td>37.775880</td>\n",
       "      <td>-122.393170</td>\n",
       "      <td>2535</td>\n",
       "      <td>Customer</td>\n",
       "      <td>NaN</td>\n",
       "      <td>NaN</td>\n",
       "      <td>No</td>\n",
       "    </tr>\n",
       "    <tr>\n",
       "      <th>2</th>\n",
       "      <td>61854</td>\n",
       "      <td>2019-02-28 12:13:13.2180</td>\n",
       "      <td>2019-03-01 05:24:08.1460</td>\n",
       "      <td>86.0</td>\n",
       "      <td>Market St at Dolores St</td>\n",
       "      <td>37.769305</td>\n",
       "      <td>-122.426826</td>\n",
       "      <td>3.0</td>\n",
       "      <td>Powell St BART Station (Market St at 4th St)</td>\n",
       "      <td>37.786375</td>\n",
       "      <td>-122.404904</td>\n",
       "      <td>5905</td>\n",
       "      <td>Customer</td>\n",
       "      <td>1972.0</td>\n",
       "      <td>Male</td>\n",
       "      <td>No</td>\n",
       "    </tr>\n",
       "    <tr>\n",
       "      <th>3</th>\n",
       "      <td>36490</td>\n",
       "      <td>2019-02-28 17:54:26.0100</td>\n",
       "      <td>2019-03-01 04:02:36.8420</td>\n",
       "      <td>375.0</td>\n",
       "      <td>Grove St at Masonic Ave</td>\n",
       "      <td>37.774836</td>\n",
       "      <td>-122.446546</td>\n",
       "      <td>70.0</td>\n",
       "      <td>Central Ave at Fell St</td>\n",
       "      <td>37.773311</td>\n",
       "      <td>-122.444293</td>\n",
       "      <td>6638</td>\n",
       "      <td>Subscriber</td>\n",
       "      <td>1989.0</td>\n",
       "      <td>Other</td>\n",
       "      <td>No</td>\n",
       "    </tr>\n",
       "    <tr>\n",
       "      <th>4</th>\n",
       "      <td>1585</td>\n",
       "      <td>2019-02-28 23:54:18.5490</td>\n",
       "      <td>2019-03-01 00:20:44.0740</td>\n",
       "      <td>7.0</td>\n",
       "      <td>Frank H Ogawa Plaza</td>\n",
       "      <td>37.804562</td>\n",
       "      <td>-122.271738</td>\n",
       "      <td>222.0</td>\n",
       "      <td>10th Ave at E 15th St</td>\n",
       "      <td>37.792714</td>\n",
       "      <td>-122.248780</td>\n",
       "      <td>4898</td>\n",
       "      <td>Subscriber</td>\n",
       "      <td>1974.0</td>\n",
       "      <td>Male</td>\n",
       "      <td>Yes</td>\n",
       "    </tr>\n",
       "  </tbody>\n",
       "</table>\n",
       "</div>"
      ],
      "text/plain": [
       "   duration_sec                start_time                  end_time  \\\n",
       "0         52185  2019-02-28 17:32:10.1450  2019-03-01 08:01:55.9750   \n",
       "1         42521  2019-02-28 18:53:21.7890  2019-03-01 06:42:03.0560   \n",
       "2         61854  2019-02-28 12:13:13.2180  2019-03-01 05:24:08.1460   \n",
       "3         36490  2019-02-28 17:54:26.0100  2019-03-01 04:02:36.8420   \n",
       "4          1585  2019-02-28 23:54:18.5490  2019-03-01 00:20:44.0740   \n",
       "\n",
       "   start_station_id                                start_station_name  \\\n",
       "0              21.0  Montgomery St BART Station (Market St at 2nd St)   \n",
       "1              23.0                     The Embarcadero at Steuart St   \n",
       "2              86.0                           Market St at Dolores St   \n",
       "3             375.0                           Grove St at Masonic Ave   \n",
       "4               7.0                               Frank H Ogawa Plaza   \n",
       "\n",
       "   start_station_latitude  start_station_longitude  end_station_id  \\\n",
       "0               37.789625              -122.400811            13.0   \n",
       "1               37.791464              -122.391034            81.0   \n",
       "2               37.769305              -122.426826             3.0   \n",
       "3               37.774836              -122.446546            70.0   \n",
       "4               37.804562              -122.271738           222.0   \n",
       "\n",
       "                               end_station_name  end_station_latitude  \\\n",
       "0                Commercial St at Montgomery St             37.794231   \n",
       "1                            Berry St at 4th St             37.775880   \n",
       "2  Powell St BART Station (Market St at 4th St)             37.786375   \n",
       "3                        Central Ave at Fell St             37.773311   \n",
       "4                         10th Ave at E 15th St             37.792714   \n",
       "\n",
       "   end_station_longitude  bike_id   user_type  member_birth_year  \\\n",
       "0            -122.402923     4902    Customer             1984.0   \n",
       "1            -122.393170     2535    Customer                NaN   \n",
       "2            -122.404904     5905    Customer             1972.0   \n",
       "3            -122.444293     6638  Subscriber             1989.0   \n",
       "4            -122.248780     4898  Subscriber             1974.0   \n",
       "\n",
       "  member_gender bike_share_for_all_trip  \n",
       "0          Male                      No  \n",
       "1           NaN                      No  \n",
       "2          Male                      No  \n",
       "3         Other                      No  \n",
       "4          Male                     Yes  "
      ]
     },
     "metadata": {},
     "output_type": "display_data"
    }
   ],
   "source": [
    "# high-level overview of data shape and composition\n",
    "print(df.shape,\"\\n\")\n",
    "print(df.dtypes,\"\\n\")\n",
    "display(df.head(5))"
   ]
  },
  {
   "cell_type": "code",
   "execution_count": 8,
   "id": "fed4987e",
   "metadata": {},
   "outputs": [
    {
     "data": {
      "text/html": [
       "<div>\n",
       "<style scoped>\n",
       "    .dataframe tbody tr th:only-of-type {\n",
       "        vertical-align: middle;\n",
       "    }\n",
       "\n",
       "    .dataframe tbody tr th {\n",
       "        vertical-align: top;\n",
       "    }\n",
       "\n",
       "    .dataframe thead th {\n",
       "        text-align: right;\n",
       "    }\n",
       "</style>\n",
       "<table border=\"1\" class=\"dataframe\">\n",
       "  <thead>\n",
       "    <tr style=\"text-align: right;\">\n",
       "      <th></th>\n",
       "      <th>duration_sec</th>\n",
       "      <th>start_station_id</th>\n",
       "      <th>start_station_latitude</th>\n",
       "      <th>start_station_longitude</th>\n",
       "      <th>end_station_id</th>\n",
       "      <th>end_station_latitude</th>\n",
       "      <th>end_station_longitude</th>\n",
       "      <th>bike_id</th>\n",
       "      <th>member_birth_year</th>\n",
       "    </tr>\n",
       "  </thead>\n",
       "  <tbody>\n",
       "    <tr>\n",
       "      <th>count</th>\n",
       "      <td>183412.000000</td>\n",
       "      <td>183215.000000</td>\n",
       "      <td>183412.000000</td>\n",
       "      <td>183412.000000</td>\n",
       "      <td>183215.000000</td>\n",
       "      <td>183412.000000</td>\n",
       "      <td>183412.000000</td>\n",
       "      <td>183412.000000</td>\n",
       "      <td>175147.000000</td>\n",
       "    </tr>\n",
       "    <tr>\n",
       "      <th>mean</th>\n",
       "      <td>726.078435</td>\n",
       "      <td>138.590427</td>\n",
       "      <td>37.771223</td>\n",
       "      <td>-122.352664</td>\n",
       "      <td>136.249123</td>\n",
       "      <td>37.771427</td>\n",
       "      <td>-122.352250</td>\n",
       "      <td>4472.906375</td>\n",
       "      <td>1984.806437</td>\n",
       "    </tr>\n",
       "    <tr>\n",
       "      <th>std</th>\n",
       "      <td>1794.389780</td>\n",
       "      <td>111.778864</td>\n",
       "      <td>0.099581</td>\n",
       "      <td>0.117097</td>\n",
       "      <td>111.515131</td>\n",
       "      <td>0.099490</td>\n",
       "      <td>0.116673</td>\n",
       "      <td>1664.383394</td>\n",
       "      <td>10.116689</td>\n",
       "    </tr>\n",
       "    <tr>\n",
       "      <th>min</th>\n",
       "      <td>61.000000</td>\n",
       "      <td>3.000000</td>\n",
       "      <td>37.317298</td>\n",
       "      <td>-122.453704</td>\n",
       "      <td>3.000000</td>\n",
       "      <td>37.317298</td>\n",
       "      <td>-122.453704</td>\n",
       "      <td>11.000000</td>\n",
       "      <td>1878.000000</td>\n",
       "    </tr>\n",
       "    <tr>\n",
       "      <th>25%</th>\n",
       "      <td>325.000000</td>\n",
       "      <td>47.000000</td>\n",
       "      <td>37.770083</td>\n",
       "      <td>-122.412408</td>\n",
       "      <td>44.000000</td>\n",
       "      <td>37.770407</td>\n",
       "      <td>-122.411726</td>\n",
       "      <td>3777.000000</td>\n",
       "      <td>1980.000000</td>\n",
       "    </tr>\n",
       "    <tr>\n",
       "      <th>50%</th>\n",
       "      <td>514.000000</td>\n",
       "      <td>104.000000</td>\n",
       "      <td>37.780760</td>\n",
       "      <td>-122.398285</td>\n",
       "      <td>100.000000</td>\n",
       "      <td>37.781010</td>\n",
       "      <td>-122.398279</td>\n",
       "      <td>4958.000000</td>\n",
       "      <td>1987.000000</td>\n",
       "    </tr>\n",
       "    <tr>\n",
       "      <th>75%</th>\n",
       "      <td>796.000000</td>\n",
       "      <td>239.000000</td>\n",
       "      <td>37.797280</td>\n",
       "      <td>-122.286533</td>\n",
       "      <td>235.000000</td>\n",
       "      <td>37.797320</td>\n",
       "      <td>-122.288045</td>\n",
       "      <td>5502.000000</td>\n",
       "      <td>1992.000000</td>\n",
       "    </tr>\n",
       "    <tr>\n",
       "      <th>max</th>\n",
       "      <td>85444.000000</td>\n",
       "      <td>398.000000</td>\n",
       "      <td>37.880222</td>\n",
       "      <td>-121.874119</td>\n",
       "      <td>398.000000</td>\n",
       "      <td>37.880222</td>\n",
       "      <td>-121.874119</td>\n",
       "      <td>6645.000000</td>\n",
       "      <td>2001.000000</td>\n",
       "    </tr>\n",
       "  </tbody>\n",
       "</table>\n",
       "</div>"
      ],
      "text/plain": [
       "        duration_sec  start_station_id  start_station_latitude  \\\n",
       "count  183412.000000     183215.000000           183412.000000   \n",
       "mean      726.078435        138.590427               37.771223   \n",
       "std      1794.389780        111.778864                0.099581   \n",
       "min        61.000000          3.000000               37.317298   \n",
       "25%       325.000000         47.000000               37.770083   \n",
       "50%       514.000000        104.000000               37.780760   \n",
       "75%       796.000000        239.000000               37.797280   \n",
       "max     85444.000000        398.000000               37.880222   \n",
       "\n",
       "       start_station_longitude  end_station_id  end_station_latitude  \\\n",
       "count            183412.000000   183215.000000         183412.000000   \n",
       "mean               -122.352664      136.249123             37.771427   \n",
       "std                   0.117097      111.515131              0.099490   \n",
       "min                -122.453704        3.000000             37.317298   \n",
       "25%                -122.412408       44.000000             37.770407   \n",
       "50%                -122.398285      100.000000             37.781010   \n",
       "75%                -122.286533      235.000000             37.797320   \n",
       "max                -121.874119      398.000000             37.880222   \n",
       "\n",
       "       end_station_longitude        bike_id  member_birth_year  \n",
       "count          183412.000000  183412.000000      175147.000000  \n",
       "mean             -122.352250    4472.906375        1984.806437  \n",
       "std                 0.116673    1664.383394          10.116689  \n",
       "min              -122.453704      11.000000        1878.000000  \n",
       "25%              -122.411726    3777.000000        1980.000000  \n",
       "50%              -122.398279    4958.000000        1987.000000  \n",
       "75%              -122.288045    5502.000000        1992.000000  \n",
       "max              -121.874119    6645.000000        2001.000000  "
      ]
     },
     "metadata": {},
     "output_type": "display_data"
    }
   ],
   "source": [
    "# descriptive statistics for numeric variables\n",
    "display(df.describe())"
   ]
  },
  {
   "cell_type": "code",
   "execution_count": 9,
   "id": "ad353635",
   "metadata": {},
   "outputs": [
    {
     "data": {
      "text/plain": [
       "0"
      ]
     },
     "execution_count": 9,
     "metadata": {},
     "output_type": "execute_result"
    }
   ],
   "source": [
    "# check for duplicates\n",
    "df.duplicated().sum()"
   ]
  },
  {
   "cell_type": "code",
   "execution_count": 10,
   "id": "c050407c",
   "metadata": {},
   "outputs": [
    {
     "data": {
      "text/plain": [
       "duration_sec               0.000000\n",
       "start_time                 0.000000\n",
       "end_time                   0.000000\n",
       "start_station_id           0.107408\n",
       "start_station_name         0.107408\n",
       "start_station_latitude     0.000000\n",
       "start_station_longitude    0.000000\n",
       "end_station_id             0.107408\n",
       "end_station_name           0.107408\n",
       "end_station_latitude       0.000000\n",
       "end_station_longitude      0.000000\n",
       "bike_id                    0.000000\n",
       "user_type                  0.000000\n",
       "member_birth_year          4.506248\n",
       "member_gender              4.506248\n",
       "bike_share_for_all_trip    0.000000\n",
       "dtype: float64"
      ]
     },
     "metadata": {},
     "output_type": "display_data"
    }
   ],
   "source": [
    "# check for the percentage of missing values\n",
    "missing_val_summary = (df.isnull().sum()/df.isnull().count())*100\n",
    "\n",
    "display(missing_val_summary)"
   ]
  },
  {
   "cell_type": "markdown",
   "id": "5edabf2a",
   "metadata": {},
   "source": [
    "# What is the structure of your dataset?"
   ]
  },
  {
   "cell_type": "markdown",
   "id": "f40145ac",
   "metadata": {},
   "source": [
    "There are 183,412 rides made in the dataset with 16 features ('duration_sec', 'start_time', 'end_time', 'start_station_id', 'start_station_name', 'start_station_latitude','start_station_longitude', 'end_station_id', 'end_station_name', 'end_station_latitude', 'end_station_longitude', 'bike_id', 'user_type','member_birth_year', 'member_gender', 'bike_share_for_all_trip'). Most variables are numeric in nature while some variables like the start_time and end_time have the wrong data types instead of the datetime.\n",
    "\n",
    "\n",
    "Also, the variables start_station_id, start_station_name, end_station_id, end_station_name, member_birth_year and member_gender contained missing values with the following percentages:\n",
    "\n",
    "start_station_id: 0.107\n",
    "\n",
    "start_station_name: 0.107\n",
    "end_station_id: 0.107\n",
    "end_station_name: 0.107\n",
    "member_birth_year: 4.506\n",
    "member_gender: 4.506"
   ]
  },
  {
   "cell_type": "markdown",
   "id": "71d7ed70",
   "metadata": {},
   "source": [
    "# What is/are the main feature(s) of interest in your dataset?"
   ]
  },
  {
   "cell_type": "markdown",
   "id": "a6b942a6",
   "metadata": {},
   "source": [
    "Among several other informations that would warrant investigation along the data exploration, I am most interested in figuring out:\n",
    "\n",
    "1.The time of day, day of the week that most trips are taken\n",
    "2.How long does the average trip take?\n",
    "3.If the answer in 1 & 2 above depend on if a user is a subscriber or a customer?"
   ]
  },
  {
   "cell_type": "markdown",
   "id": "d734de84",
   "metadata": {},
   "source": [
    "The main features of interest would be the duration_sec, start_time, and user_type."
   ]
  },
  {
   "cell_type": "markdown",
   "id": "2b0cba2c",
   "metadata": {},
   "source": [
    "# What features in the dataset do you think will help support your investigation into your feature(s) of interest?"
   ]
  },
  {
   "cell_type": "markdown",
   "id": "c9d597e7",
   "metadata": {},
   "source": [
    "With Additional feature engineering from the main features of interest, I believe extracting the time of the day and day of the week from the start_time will help answer the number one objective listed above. It could also be expected that the duration_sec would be able to help in answering the number two objective and then the user_type with the number three objective. Also features like member_birth_year and member_gender would greatly help support my investigations."
   ]
  },
  {
   "cell_type": "code",
   "execution_count": 13,
   "id": "bc8666bc",
   "metadata": {},
   "outputs": [],
   "source": [
    "# make a copy of the original dataset to clean\n",
    "df_new = df.copy()"
   ]
  },
  {
   "cell_type": "code",
   "execution_count": 14,
   "id": "a0ada8d0",
   "metadata": {},
   "outputs": [
    {
     "data": {
      "text/html": [
       "<div>\n",
       "<style scoped>\n",
       "    .dataframe tbody tr th:only-of-type {\n",
       "        vertical-align: middle;\n",
       "    }\n",
       "\n",
       "    .dataframe tbody tr th {\n",
       "        vertical-align: top;\n",
       "    }\n",
       "\n",
       "    .dataframe thead th {\n",
       "        text-align: right;\n",
       "    }\n",
       "</style>\n",
       "<table border=\"1\" class=\"dataframe\">\n",
       "  <thead>\n",
       "    <tr style=\"text-align: right;\">\n",
       "      <th></th>\n",
       "      <th>duration_sec</th>\n",
       "      <th>start_time</th>\n",
       "      <th>start_station_name</th>\n",
       "      <th>end_station_name</th>\n",
       "      <th>user_type</th>\n",
       "      <th>member_birth_year</th>\n",
       "      <th>member_gender</th>\n",
       "    </tr>\n",
       "  </thead>\n",
       "  <tbody>\n",
       "    <tr>\n",
       "      <th>0</th>\n",
       "      <td>52185</td>\n",
       "      <td>2019-02-28 17:32:10.1450</td>\n",
       "      <td>Montgomery St BART Station (Market St at 2nd St)</td>\n",
       "      <td>Commercial St at Montgomery St</td>\n",
       "      <td>Customer</td>\n",
       "      <td>1984.0</td>\n",
       "      <td>Male</td>\n",
       "    </tr>\n",
       "    <tr>\n",
       "      <th>1</th>\n",
       "      <td>42521</td>\n",
       "      <td>2019-02-28 18:53:21.7890</td>\n",
       "      <td>The Embarcadero at Steuart St</td>\n",
       "      <td>Berry St at 4th St</td>\n",
       "      <td>Customer</td>\n",
       "      <td>NaN</td>\n",
       "      <td>NaN</td>\n",
       "    </tr>\n",
       "    <tr>\n",
       "      <th>2</th>\n",
       "      <td>61854</td>\n",
       "      <td>2019-02-28 12:13:13.2180</td>\n",
       "      <td>Market St at Dolores St</td>\n",
       "      <td>Powell St BART Station (Market St at 4th St)</td>\n",
       "      <td>Customer</td>\n",
       "      <td>1972.0</td>\n",
       "      <td>Male</td>\n",
       "    </tr>\n",
       "    <tr>\n",
       "      <th>3</th>\n",
       "      <td>36490</td>\n",
       "      <td>2019-02-28 17:54:26.0100</td>\n",
       "      <td>Grove St at Masonic Ave</td>\n",
       "      <td>Central Ave at Fell St</td>\n",
       "      <td>Subscriber</td>\n",
       "      <td>1989.0</td>\n",
       "      <td>Other</td>\n",
       "    </tr>\n",
       "    <tr>\n",
       "      <th>4</th>\n",
       "      <td>1585</td>\n",
       "      <td>2019-02-28 23:54:18.5490</td>\n",
       "      <td>Frank H Ogawa Plaza</td>\n",
       "      <td>10th Ave at E 15th St</td>\n",
       "      <td>Subscriber</td>\n",
       "      <td>1974.0</td>\n",
       "      <td>Male</td>\n",
       "    </tr>\n",
       "  </tbody>\n",
       "</table>\n",
       "</div>"
      ],
      "text/plain": [
       "   duration_sec                start_time  \\\n",
       "0         52185  2019-02-28 17:32:10.1450   \n",
       "1         42521  2019-02-28 18:53:21.7890   \n",
       "2         61854  2019-02-28 12:13:13.2180   \n",
       "3         36490  2019-02-28 17:54:26.0100   \n",
       "4          1585  2019-02-28 23:54:18.5490   \n",
       "\n",
       "                                 start_station_name  \\\n",
       "0  Montgomery St BART Station (Market St at 2nd St)   \n",
       "1                     The Embarcadero at Steuart St   \n",
       "2                           Market St at Dolores St   \n",
       "3                           Grove St at Masonic Ave   \n",
       "4                               Frank H Ogawa Plaza   \n",
       "\n",
       "                               end_station_name   user_type  \\\n",
       "0                Commercial St at Montgomery St    Customer   \n",
       "1                            Berry St at 4th St    Customer   \n",
       "2  Powell St BART Station (Market St at 4th St)    Customer   \n",
       "3                        Central Ave at Fell St  Subscriber   \n",
       "4                         10th Ave at E 15th St  Subscriber   \n",
       "\n",
       "   member_birth_year member_gender  \n",
       "0             1984.0          Male  \n",
       "1                NaN           NaN  \n",
       "2             1972.0          Male  \n",
       "3             1989.0         Other  \n",
       "4             1974.0          Male  "
      ]
     },
     "execution_count": 14,
     "metadata": {},
     "output_type": "execute_result"
    }
   ],
   "source": [
    "# drop variables that are irrelevant to my analysis\n",
    "df_new.drop(['end_time', 'start_station_id', 'start_station_latitude', 'start_station_longitude', 'end_station_id','end_station_latitude', 'end_station_longitude', 'bike_id', \n",
    "        'bike_share_for_all_trip'], axis=1, inplace=True)\n",
    "df_new.head()"
   ]
  },
  {
   "cell_type": "code",
   "execution_count": 15,
   "id": "9d2afa1f",
   "metadata": {},
   "outputs": [],
   "source": [
    "# assign proper data types to the start_time\n",
    "df_new['start_time'] = pd.to_datetime(df_new['start_time'])"
   ]
  },
  {
   "cell_type": "code",
   "execution_count": 16,
   "id": "9a87b67e",
   "metadata": {},
   "outputs": [
    {
     "data": {
      "text/html": [
       "<div>\n",
       "<style scoped>\n",
       "    .dataframe tbody tr th:only-of-type {\n",
       "        vertical-align: middle;\n",
       "    }\n",
       "\n",
       "    .dataframe tbody tr th {\n",
       "        vertical-align: top;\n",
       "    }\n",
       "\n",
       "    .dataframe thead th {\n",
       "        text-align: right;\n",
       "    }\n",
       "</style>\n",
       "<table border=\"1\" class=\"dataframe\">\n",
       "  <thead>\n",
       "    <tr style=\"text-align: right;\">\n",
       "      <th></th>\n",
       "      <th>day_of_week</th>\n",
       "      <th>start_hour</th>\n",
       "      <th>time_of_day</th>\n",
       "    </tr>\n",
       "  </thead>\n",
       "  <tbody>\n",
       "    <tr>\n",
       "      <th>0</th>\n",
       "      <td>Thursday</td>\n",
       "      <td>17</td>\n",
       "      <td>Afternoon</td>\n",
       "    </tr>\n",
       "    <tr>\n",
       "      <th>1</th>\n",
       "      <td>Thursday</td>\n",
       "      <td>18</td>\n",
       "      <td>Night</td>\n",
       "    </tr>\n",
       "    <tr>\n",
       "      <th>2</th>\n",
       "      <td>Thursday</td>\n",
       "      <td>12</td>\n",
       "      <td>Afternoon</td>\n",
       "    </tr>\n",
       "    <tr>\n",
       "      <th>3</th>\n",
       "      <td>Thursday</td>\n",
       "      <td>17</td>\n",
       "      <td>Afternoon</td>\n",
       "    </tr>\n",
       "    <tr>\n",
       "      <th>4</th>\n",
       "      <td>Thursday</td>\n",
       "      <td>23</td>\n",
       "      <td>Night</td>\n",
       "    </tr>\n",
       "    <tr>\n",
       "      <th>...</th>\n",
       "      <td>...</td>\n",
       "      <td>...</td>\n",
       "      <td>...</td>\n",
       "    </tr>\n",
       "    <tr>\n",
       "      <th>183407</th>\n",
       "      <td>Friday</td>\n",
       "      <td>0</td>\n",
       "      <td>Morning</td>\n",
       "    </tr>\n",
       "    <tr>\n",
       "      <th>183408</th>\n",
       "      <td>Friday</td>\n",
       "      <td>0</td>\n",
       "      <td>Morning</td>\n",
       "    </tr>\n",
       "    <tr>\n",
       "      <th>183409</th>\n",
       "      <td>Friday</td>\n",
       "      <td>0</td>\n",
       "      <td>Morning</td>\n",
       "    </tr>\n",
       "    <tr>\n",
       "      <th>183410</th>\n",
       "      <td>Friday</td>\n",
       "      <td>0</td>\n",
       "      <td>Morning</td>\n",
       "    </tr>\n",
       "    <tr>\n",
       "      <th>183411</th>\n",
       "      <td>Friday</td>\n",
       "      <td>0</td>\n",
       "      <td>Morning</td>\n",
       "    </tr>\n",
       "  </tbody>\n",
       "</table>\n",
       "<p>183412 rows × 3 columns</p>\n",
       "</div>"
      ],
      "text/plain": [
       "       day_of_week  start_hour time_of_day\n",
       "0         Thursday          17   Afternoon\n",
       "1         Thursday          18       Night\n",
       "2         Thursday          12   Afternoon\n",
       "3         Thursday          17   Afternoon\n",
       "4         Thursday          23       Night\n",
       "...            ...         ...         ...\n",
       "183407      Friday           0     Morning\n",
       "183408      Friday           0     Morning\n",
       "183409      Friday           0     Morning\n",
       "183410      Friday           0     Morning\n",
       "183411      Friday           0     Morning\n",
       "\n",
       "[183412 rows x 3 columns]"
      ]
     },
     "metadata": {},
     "output_type": "display_data"
    }
   ],
   "source": [
    "# extract day of the week\n",
    "df_new['day_of_week'] = pd.DatetimeIndex(df_new['start_time']).strftime('%A')\n",
    "# extract the time of the day\n",
    "df_new['start_hour'] = df_new['start_time'].apply(lambda time: time.hour)\n",
    "df_new['time_of_day'] = 'Morning'\n",
    "df_new['time_of_day'][(df_new['start_hour'] >= 12) & (df_new['start_hour'] <= 17)] = 'Afternoon'\n",
    "df_new['time_of_day'][(df_new['start_hour'] >= 18) & (df_new['start_hour'] <= 23)] = 'Night'\n",
    "\n",
    "# display the added columns\n",
    "display(df_new[['day_of_week','start_hour','time_of_day']])"
   ]
  },
  {
   "cell_type": "code",
   "execution_count": 17,
   "id": "9f4a3609",
   "metadata": {},
   "outputs": [
    {
     "data": {
      "text/html": [
       "<div>\n",
       "<style scoped>\n",
       "    .dataframe tbody tr th:only-of-type {\n",
       "        vertical-align: middle;\n",
       "    }\n",
       "\n",
       "    .dataframe tbody tr th {\n",
       "        vertical-align: top;\n",
       "    }\n",
       "\n",
       "    .dataframe thead th {\n",
       "        text-align: right;\n",
       "    }\n",
       "</style>\n",
       "<table border=\"1\" class=\"dataframe\">\n",
       "  <thead>\n",
       "    <tr style=\"text-align: right;\">\n",
       "      <th></th>\n",
       "      <th>duration_sec</th>\n",
       "      <th>start_time</th>\n",
       "      <th>start_station_name</th>\n",
       "      <th>end_station_name</th>\n",
       "      <th>user_type</th>\n",
       "      <th>member_birth_year</th>\n",
       "      <th>member_gender</th>\n",
       "      <th>day_of_week</th>\n",
       "      <th>start_hour</th>\n",
       "      <th>time_of_day</th>\n",
       "    </tr>\n",
       "  </thead>\n",
       "  <tbody>\n",
       "    <tr>\n",
       "      <th>0</th>\n",
       "      <td>52185</td>\n",
       "      <td>2019-02-28 17:32:10.145</td>\n",
       "      <td>Montgomery St BART Station (Market St at 2nd St)</td>\n",
       "      <td>Commercial St at Montgomery St</td>\n",
       "      <td>Customer</td>\n",
       "      <td>1984.0</td>\n",
       "      <td>Male</td>\n",
       "      <td>Thursday</td>\n",
       "      <td>17</td>\n",
       "      <td>Afternoon</td>\n",
       "    </tr>\n",
       "    <tr>\n",
       "      <th>1</th>\n",
       "      <td>42521</td>\n",
       "      <td>2019-02-28 18:53:21.789</td>\n",
       "      <td>The Embarcadero at Steuart St</td>\n",
       "      <td>Berry St at 4th St</td>\n",
       "      <td>Customer</td>\n",
       "      <td>NaN</td>\n",
       "      <td>NaN</td>\n",
       "      <td>Thursday</td>\n",
       "      <td>18</td>\n",
       "      <td>Night</td>\n",
       "    </tr>\n",
       "    <tr>\n",
       "      <th>2</th>\n",
       "      <td>61854</td>\n",
       "      <td>2019-02-28 12:13:13.218</td>\n",
       "      <td>Market St at Dolores St</td>\n",
       "      <td>Powell St BART Station (Market St at 4th St)</td>\n",
       "      <td>Customer</td>\n",
       "      <td>1972.0</td>\n",
       "      <td>Male</td>\n",
       "      <td>Thursday</td>\n",
       "      <td>12</td>\n",
       "      <td>Afternoon</td>\n",
       "    </tr>\n",
       "    <tr>\n",
       "      <th>3</th>\n",
       "      <td>36490</td>\n",
       "      <td>2019-02-28 17:54:26.010</td>\n",
       "      <td>Grove St at Masonic Ave</td>\n",
       "      <td>Central Ave at Fell St</td>\n",
       "      <td>Subscriber</td>\n",
       "      <td>1989.0</td>\n",
       "      <td>Other</td>\n",
       "      <td>Thursday</td>\n",
       "      <td>17</td>\n",
       "      <td>Afternoon</td>\n",
       "    </tr>\n",
       "    <tr>\n",
       "      <th>4</th>\n",
       "      <td>1585</td>\n",
       "      <td>2019-02-28 23:54:18.549</td>\n",
       "      <td>Frank H Ogawa Plaza</td>\n",
       "      <td>10th Ave at E 15th St</td>\n",
       "      <td>Subscriber</td>\n",
       "      <td>1974.0</td>\n",
       "      <td>Male</td>\n",
       "      <td>Thursday</td>\n",
       "      <td>23</td>\n",
       "      <td>Night</td>\n",
       "    </tr>\n",
       "  </tbody>\n",
       "</table>\n",
       "</div>"
      ],
      "text/plain": [
       "   duration_sec              start_time  \\\n",
       "0         52185 2019-02-28 17:32:10.145   \n",
       "1         42521 2019-02-28 18:53:21.789   \n",
       "2         61854 2019-02-28 12:13:13.218   \n",
       "3         36490 2019-02-28 17:54:26.010   \n",
       "4          1585 2019-02-28 23:54:18.549   \n",
       "\n",
       "                                 start_station_name  \\\n",
       "0  Montgomery St BART Station (Market St at 2nd St)   \n",
       "1                     The Embarcadero at Steuart St   \n",
       "2                           Market St at Dolores St   \n",
       "3                           Grove St at Masonic Ave   \n",
       "4                               Frank H Ogawa Plaza   \n",
       "\n",
       "                               end_station_name   user_type  \\\n",
       "0                Commercial St at Montgomery St    Customer   \n",
       "1                            Berry St at 4th St    Customer   \n",
       "2  Powell St BART Station (Market St at 4th St)    Customer   \n",
       "3                        Central Ave at Fell St  Subscriber   \n",
       "4                         10th Ave at E 15th St  Subscriber   \n",
       "\n",
       "   member_birth_year member_gender day_of_week  start_hour time_of_day  \n",
       "0             1984.0          Male    Thursday          17   Afternoon  \n",
       "1                NaN           NaN    Thursday          18       Night  \n",
       "2             1972.0          Male    Thursday          12   Afternoon  \n",
       "3             1989.0         Other    Thursday          17   Afternoon  \n",
       "4             1974.0          Male    Thursday          23       Night  "
      ]
     },
     "metadata": {},
     "output_type": "display_data"
    }
   ],
   "source": [
    "# display the resulting dataframe\n",
    "display(df_new.head())"
   ]
  },
  {
   "cell_type": "markdown",
   "id": "00ffe167",
   "metadata": {},
   "source": [
    "# Univariate Exploration"
   ]
  },
  {
   "cell_type": "markdown",
   "id": "35abf28e",
   "metadata": {},
   "source": [
    "In this section, investigate distributions of individual variables. If\n",
    "\n",
    "you see unusual points or outliers, take a deeper look to clean things up and prepare yourself to look at relationships between variables.\n",
    "\n",
    "I'll start by looking at the distribution of the main variables of interest: day_of_week, time_of_day, user_type and duration_sec"
   ]
  },
  {
   "cell_type": "code",
   "execution_count": 18,
   "id": "18a29097",
   "metadata": {},
   "outputs": [
    {
     "data": {
      "text/plain": [
       "Thursday     35197\n",
       "Tuesday      31813\n",
       "Wednesday    29641\n",
       "Friday       28981\n",
       "Monday       26852\n",
       "Sunday       15523\n",
       "Saturday     15405\n",
       "Name: day_of_week, dtype: int64"
      ]
     },
     "metadata": {},
     "output_type": "display_data"
    },
    {
     "data": {
      "image/png": "[encoded data removed]",
      "text/plain": [
       "<Figure size 576x360 with 1 Axes>"
      ]
     },
     "metadata": {
      "needs_background": "light"
     },
     "output_type": "display_data"
    }
   ],
   "source": [
    "# Get the count of trips made in each day of the week\n",
    "display(df_new['day_of_week'].value_counts().sort_values(ascending=False))\n",
    "weekday = ['Monday', 'Tuesday', 'Wednesday', 'Thursday', 'Friday', 'Saturday', 'Sunday']\n",
    "# plot distribution of day of week\n",
    "plt.figure(figsize=[8, 5])\n",
    "\n",
    "# base_color = sns.color_palette()[0]\n",
    "sns.countplot(data = df_new, x = 'day_of_week', order=weekday)\n",
    "plt.title('Trips by Days of the Week')\n",
    "plt.xlabel('Days')\n",
    "plt.show()"
   ]
  },
  {
   "cell_type": "markdown",
   "id": "ad6325b9",
   "metadata": {},
   "source": [
    "It happened that the day of the week with the most trips is Thursday followed by Tuesday and wednesday. It could be seen that Saturday and Sunday have the least number of trips which is quite reasonable with the fact that they are not working days. Therefore, I would be investigating how the user type and gender are distributed among the days of the week."
   ]
  },
  {
   "cell_type": "code",
   "execution_count": 19,
   "id": "b8de4c9f",
   "metadata": {},
   "outputs": [
    {
     "name": "stdout",
     "output_type": "stream",
     "text": [
      "The percentage count of trips made in terms of times of the day(%)\n",
      "Afternoon    38.51\n",
      "Morning      38.42\n",
      "Night        23.07\n",
      "Name: time_of_day, dtype: float64\n"
     ]
    },
    {
     "data": {
      "image/png": "[encoded data removed]",
      "text/plain": [
       "<Figure size 576x360 with 1 Axes>"
      ]
     },
     "metadata": {
      "needs_background": "light"
     },
     "output_type": "display_data"
    }
   ],
   "source": [
    "# Get the percentage count of trips made in terms of times of the day\n",
    "time_of_day_count = (df_new['time_of_day'].value_counts()/df_new['time_of_day'].count())*100\n",
    "print(\"The percentage count of trips made in terms of times of the day(%)\")\n",
    "print(time_of_day_count.round(2).sort_values(ascending=False))\n",
    "\n",
    "# plot distribution of day of week\n",
    "plt.figure(figsize=[8, 5])\n",
    "base_color = sns.color_palette()[0]\n",
    "sns.countplot(data = df_new, x = 'time_of_day', color = base_color)\n",
    "n_points = df_new.shape[0]\n",
    "user_counts = df_new['time_of_day'].value_counts()\n",
    "locs, labels = plt.xticks()\n",
    "\n",
    "# print frequency on the bar chart\n",
    "for loc, label in zip(locs, labels):\n",
    "    count = user_counts[label.get_text()]\n",
    "    pct_string = '{:0.1f}%'.format(100*count/n_points)\n",
    "    plt.text(loc, count-8, pct_string, ha='center')\n",
    "\n",
    "plt.title('Trips by Times of the Day')\n",
    "plt.xlabel('Times of the Day')\n",
    "plt.show()"
   ]
  },
  {
   "cell_type": "markdown",
   "id": "25426750",
   "metadata": {},
   "source": [
    "It could be seen from the plot that the time of the day with the most trips is Afternoon (12:00 - 17:59 hours of the day) followed by Morning (00:00 - 11:59 hours of the day). However, the differences between the number of trips taken in the two times is very little.This is really reasonable. Noone expects so much rides in the night time. Further analysis will be done to see if this is probably influenced by user types(subscriber and customer)"
   ]
  },
  {
   "cell_type": "code",
   "execution_count": 20,
   "id": "649f3a12",
   "metadata": {},
   "outputs": [
    {
     "name": "stdout",
     "output_type": "stream",
     "text": [
      "User Types Percentage Count (%)\n"
     ]
    },
    {
     "data": {
      "text/plain": [
       "Subscriber    89.17\n",
       "Customer      10.83\n",
       "Name: user_type, dtype: float64"
      ]
     },
     "metadata": {},
     "output_type": "display_data"
    },
    {
     "name": "stdout",
     "output_type": "stream",
     "text": [
      "\n",
      "Member Gender Percentage Count (%)\n"
     ]
    },
    {
     "data": {
      "text/plain": [
       "Male      74.60\n",
       "Female    23.32\n",
       "Other      2.09\n",
       "Name: member_gender, dtype: float64"
      ]
     },
     "metadata": {},
     "output_type": "display_data"
    },
    {
     "data": {
      "image/png": "[encoded data removed]",
      "text/plain": [
       "<Figure size 576x576 with 2 Axes>"
      ]
     },
     "metadata": {
      "needs_background": "light"
     },
     "output_type": "display_data"
    }
   ],
   "source": [
    "# Get the percentage count of user types and gender\n",
    "user_type_count = (df_new['user_type'].value_counts()/df_new['user_type'].count())*100\n",
    "member_gender_count = (df_new['member_gender'].value_counts()/df_new['member_gender'].count())*100\n",
    "\n",
    "print(\"User Types Percentage Count (%)\")\n",
    "display(user_type_count.round(2).sort_values(ascending=False))\n",
    "print(\"\\nMember Gender Percentage Count (%)\")\n",
    "display(member_gender_count.round(2).sort_values(ascending=False))\n",
    "\n",
    "# Attributes of the Riders: the distributions of user type and gender\n",
    "fig, ax = plt.subplots(nrows=2, figsize = [8,8])\n",
    "default_color = sns.color_palette()[1]\n",
    "sns.countplot(data = df_new, x = 'user_type', color = default_color, ax = ax[0])\n",
    "sns.countplot(data = df_new, x = 'member_gender', color = default_color, ax = ax[1])\n",
    "ax[0].set_xlabel('User Type')\n",
    "ax[0].set_ylabel('Count')\n",
    "ax[1].set_xlabel('Member Gender')\n",
    "ax[1].set_ylabel('Count')\n",
    "ax[0].set_title('Distributions of User Types and Gender');"
   ]
  },
  {
   "cell_type": "markdown",
   "id": "cabc9123",
   "metadata": {},
   "source": [
    "As it would be expected in most cases, most trips (about 90%) are taken by the subscribers with the remaining 10% being just casual riders. In the case of larger percentage of trips by subscribers; who wouldn't want to make efficient use of their subscription?. Or in another view, the Subscribers might be using the bikes for daily commute while customers just use it for leisure activities\n",
    "\n",
    "Also, almost 75% of the riders that's taken trips are males which is like 3 times that of the females with the remaining 2% regarded as other.\n",
    "\n",
    "Now unto the last main variables of interest: duration_sec"
   ]
  },
  {
   "cell_type": "code",
   "execution_count": 23,
   "id": "fc82b912",
   "metadata": {},
   "outputs": [
    {
     "data": {
      "image/png": "[encoded data removed]",
      "text/plain": [
       "<Figure size 576x360 with 1 Axes>"
      ]
     },
     "metadata": {
      "needs_background": "light"
     },
     "output_type": "display_data"
    }
   ],
   "source": [
    "# start with a standard-scaled plot\n",
    "binsize = 100\n",
    "bins = np.arange(0, df_new['duration_sec'].max()+binsize, binsize)\n",
    "\n",
    "plt.figure(figsize=[8, 5])\n",
    "plt.hist(data = df_new, x = 'duration_sec', bins=bins)\n",
    "plt.xlim(0, 3000)\n",
    "plt.xlabel('Trip Duration (sec)')\n",
    "plt.ylabel('Count')\n",
    "plt.title('Distribution of Trip Duration')\n",
    "plt.show()"
   ]
  },
  {
   "cell_type": "markdown",
   "id": "db4592de",
   "metadata": {},
   "source": [
    "The Trip duration in seconds distribution is highly right-skewed with a really long tail that it was very difficult to view the plot. I had to resolve into binning of size 100 and also set the plot's x_axis limit to 3000. I will change the trip duration variable to minute instead of second and also get to know how long the average trip take."
   ]
  },
  {
   "cell_type": "code",
   "execution_count": 25,
   "id": "52957474",
   "metadata": {},
   "outputs": [
    {
     "data": {
      "text/html": [
       "<div>\n",
       "<style scoped>\n",
       "    .dataframe tbody tr th:only-of-type {\n",
       "        vertical-align: middle;\n",
       "    }\n",
       "\n",
       "    .dataframe tbody tr th {\n",
       "        vertical-align: top;\n",
       "    }\n",
       "\n",
       "    .dataframe thead th {\n",
       "        text-align: right;\n",
       "    }\n",
       "</style>\n",
       "<table border=\"1\" class=\"dataframe\">\n",
       "  <thead>\n",
       "    <tr style=\"text-align: right;\">\n",
       "      <th></th>\n",
       "      <th>duration_min</th>\n",
       "    </tr>\n",
       "  </thead>\n",
       "  <tbody>\n",
       "    <tr>\n",
       "      <th>0</th>\n",
       "      <td>869.750000</td>\n",
       "    </tr>\n",
       "    <tr>\n",
       "      <th>1</th>\n",
       "      <td>708.683333</td>\n",
       "    </tr>\n",
       "    <tr>\n",
       "      <th>2</th>\n",
       "      <td>1030.900000</td>\n",
       "    </tr>\n",
       "    <tr>\n",
       "      <th>3</th>\n",
       "      <td>608.166667</td>\n",
       "    </tr>\n",
       "    <tr>\n",
       "      <th>4</th>\n",
       "      <td>26.416667</td>\n",
       "    </tr>\n",
       "    <tr>\n",
       "      <th>...</th>\n",
       "      <td>...</td>\n",
       "    </tr>\n",
       "    <tr>\n",
       "      <th>183407</th>\n",
       "      <td>8.000000</td>\n",
       "    </tr>\n",
       "    <tr>\n",
       "      <th>183408</th>\n",
       "      <td>5.216667</td>\n",
       "    </tr>\n",
       "    <tr>\n",
       "      <th>183409</th>\n",
       "      <td>2.350000</td>\n",
       "    </tr>\n",
       "    <tr>\n",
       "      <th>183410</th>\n",
       "      <td>2.316667</td>\n",
       "    </tr>\n",
       "    <tr>\n",
       "      <th>183411</th>\n",
       "      <td>4.516667</td>\n",
       "    </tr>\n",
       "  </tbody>\n",
       "</table>\n",
       "<p>183412 rows × 1 columns</p>\n",
       "</div>"
      ],
      "text/plain": [
       "        duration_min\n",
       "0         869.750000\n",
       "1         708.683333\n",
       "2        1030.900000\n",
       "3         608.166667\n",
       "4          26.416667\n",
       "...              ...\n",
       "183407      8.000000\n",
       "183408      5.216667\n",
       "183409      2.350000\n",
       "183410      2.316667\n",
       "183411      4.516667\n",
       "\n",
       "[183412 rows x 1 columns]"
      ]
     },
     "metadata": {},
     "output_type": "display_data"
    }
   ],
   "source": [
    "# standardizing the trip duration variable into minutes\n",
    "df_new['duration_min'] = df_new['duration_sec'] / 60\n",
    "# drop the 'duration_sec\" column\n",
    "df_new.drop('duration_sec' , axis = 1 , inplace = True)\n",
    "\n",
    "# show\n",
    "display(df_new[['duration_min']])"
   ]
  },
  {
   "cell_type": "code",
   "execution_count": 26,
   "id": "e2804061",
   "metadata": {},
   "outputs": [
    {
     "name": "stdout",
     "output_type": "stream",
     "text": [
      "The time duration of average trip taken is 12.1 minutes.\n"
     ]
    },
    {
     "data": {
      "image/png": "[encoded data removed]",
      "text/plain": [
       "<Figure size 576x360 with 1 Axes>"
      ]
     },
     "metadata": {
      "needs_background": "light"
     },
     "output_type": "display_data"
    }
   ],
   "source": [
    "# print the average trip duration\n",
    "average_trip_duration = np.round(df_new['duration_min'].mean(),2)\n",
    "print(\"The time duration of average trip taken is %s minutes.\"%(average_trip_duration))\n",
    "\n",
    "# trip duration distribution in log scale\n",
    "log_binsize = 0.1\n",
    "bins = 10 ** np.arange(0, np.log10(df_new['duration_min'].max())+log_binsize, log_binsize)\n",
    "ticks =  [ 0.1 , 0.3 , 1 , 3, 10, 30, 100, 300]\n",
    "labels = ['{}'.format(v) for v in ticks]\n",
    "\n",
    "plt.figure(figsize=[8, 5])\n",
    "plt.hist(data = df_new, x = 'duration_min', bins = bins)\n",
    "plt.xscale('log')\n",
    "plt.xticks(ticks, labels)\n",
    "plt.xlabel('Trip Duration (min)')\n",
    "plt.ylabel('Count')\n",
    "plt.title('Log Distribution of Trip Duration')\n",
    "plt.show()"
   ]
  },
  {
   "cell_type": "markdown",
   "id": "a531d878",
   "metadata": {},
   "source": [
    "When the trip duration is converted to minutes and plotted on a log-scale, the duration distribution looks highly unimodal, with the peak around 10 minutes. Interestingly, the average trip duration is around 12 minutes.\n",
    "\n",
    "I'll now look at the other features in the data to see if any of them hold interesting properties: start_hour"
   ]
  },
  {
   "cell_type": "code",
   "execution_count": 28,
   "id": "df8e2626",
   "metadata": {},
   "outputs": [
    {
     "name": "stdout",
     "output_type": "stream",
     "text": [
      "The percentage count of trip starting hours (%)\n",
      "17    11.92\n",
      "8     11.48\n",
      "18     9.17\n",
      "9      8.67\n",
      "16     7.73\n",
      "7      5.79\n",
      "19     5.39\n",
      "15     5.00\n",
      "12     4.76\n",
      "13     4.66\n",
      "10     4.56\n",
      "14     4.44\n",
      "11     4.30\n",
      "20     3.53\n",
      "21     2.49\n",
      "6      1.90\n",
      "22     1.59\n",
      "23     0.90\n",
      "0      0.50\n",
      "5      0.49\n",
      "1      0.30\n",
      "2      0.21\n",
      "4      0.13\n",
      "3      0.09\n",
      "Name: start_hour, dtype: float64\n"
     ]
    },
    {
     "data": {
      "image/png": "[encoded data removed]",
      "text/plain": [
       "<Figure size 576x360 with 1 Axes>"
      ]
     },
     "metadata": {
      "needs_background": "light"
     },
     "output_type": "display_data"
    }
   ],
   "source": [
    "# Get the percentage count of trips made in terms of times of the day\n",
    "start_hour_count = (df_new['start_hour'].value_counts()/df_new['start_hour'].count())*100\n",
    "print(\"The percentage count of trip starting hours (%)\")\n",
    "print(start_hour_count.round(2).sort_values(ascending=False))\n",
    "\n",
    "# plot distribution of day of week\n",
    "plt.figure(figsize=[8, 5])\n",
    "base_color = sns.color_palette()[0]\n",
    "sns.countplot(data = df_new, x = 'start_hour', color = base_color)\n",
    "plt.title('Starting Hours of the trips')\n",
    "plt.xlabel('Start Hour')\n",
    "plt.show()"
   ]
  },
  {
   "cell_type": "markdown",
   "id": "0a7781a0",
   "metadata": {},
   "source": [
    "From the above barchart, it could be seen that trips are started mostly between 8-9am and 5-6pm (17-18). This is highly justifiable as these hours correspond to the hours people leave for work and home respectively.\n",
    "\n",
    "Before closing this section, I'll take a look at the age distribution of the riders"
   ]
  },
  {
   "cell_type": "code",
   "execution_count": 29,
   "id": "2d980f1d",
   "metadata": {},
   "outputs": [
    {
     "data": {
      "text/html": [
       "<div>\n",
       "<style scoped>\n",
       "    .dataframe tbody tr th:only-of-type {\n",
       "        vertical-align: middle;\n",
       "    }\n",
       "\n",
       "    .dataframe tbody tr th {\n",
       "        vertical-align: top;\n",
       "    }\n",
       "\n",
       "    .dataframe thead th {\n",
       "        text-align: right;\n",
       "    }\n",
       "</style>\n",
       "<table border=\"1\" class=\"dataframe\">\n",
       "  <thead>\n",
       "    <tr style=\"text-align: right;\">\n",
       "      <th></th>\n",
       "      <th>user_age</th>\n",
       "    </tr>\n",
       "  </thead>\n",
       "  <tbody>\n",
       "    <tr>\n",
       "      <th>0</th>\n",
       "      <td>35.0</td>\n",
       "    </tr>\n",
       "    <tr>\n",
       "      <th>1</th>\n",
       "      <td>NaN</td>\n",
       "    </tr>\n",
       "    <tr>\n",
       "      <th>2</th>\n",
       "      <td>47.0</td>\n",
       "    </tr>\n",
       "    <tr>\n",
       "      <th>3</th>\n",
       "      <td>30.0</td>\n",
       "    </tr>\n",
       "    <tr>\n",
       "      <th>4</th>\n",
       "      <td>45.0</td>\n",
       "    </tr>\n",
       "  </tbody>\n",
       "</table>\n",
       "</div>"
      ],
      "text/plain": [
       "   user_age\n",
       "0      35.0\n",
       "1       NaN\n",
       "2      47.0\n",
       "3      30.0\n",
       "4      45.0"
      ]
     },
     "metadata": {},
     "output_type": "display_data"
    }
   ],
   "source": [
    "# create the age column taking the year 2019 as the current year\n",
    "df_new['user_age'] = df_new['member_birth_year'].apply(lambda x: 2019 - x)\n",
    "# drop the 'member_birth_year\" column\n",
    "df_new.drop('member_birth_year' , axis = 1 , inplace = True)\n",
    "# test\n",
    "display(df_new[['user_age']].head())"
   ]
  },
  {
   "cell_type": "code",
   "execution_count": 30,
   "id": "9c742bdd",
   "metadata": {},
   "outputs": [
    {
     "data": {
      "image/png": "[encoded data removed]",
      "text/plain": [
       "<Figure size 576x432 with 1 Axes>"
      ]
     },
     "metadata": {
      "needs_background": "light"
     },
     "output_type": "display_data"
    }
   ],
   "source": [
    "# start with a standard-scaled plot\n",
    "binsize = 1\n",
    "bins = np.arange(0, df_new['user_age'].max()+binsize, binsize)\n",
    "\n",
    "plt.figure(figsize=[8, 6])\n",
    "plt.hist(data = df_new, x = 'user_age', bins=bins)\n",
    "plt.xlabel('Users age (years)')\n",
    "plt.ylabel('Count')\n",
    "plt.title('Distribution of users age')\n",
    "plt.show()"
   ]
  },
  {
   "cell_type": "markdown",
   "id": "bbd9173b",
   "metadata": {},
   "source": [
    "The users age distribution is highly right-skewed with as well a quite long tail. i.e most users ages ranges between 18 and 60 while there are some suprisingly old agesranging from 80 to 140. There might have been an error in data input or it could just be a case of an exception in the general expectations. To have a better understanding of the distibution, I would bin the ages into groups to see how age ranges are distributed."
   ]
  },
  {
   "cell_type": "code",
   "execution_count": 32,
   "id": "b75db0ff",
   "metadata": {},
   "outputs": [
    {
     "data": {
      "text/html": [
       "<div>\n",
       "<style scoped>\n",
       "    .dataframe tbody tr th:only-of-type {\n",
       "        vertical-align: middle;\n",
       "    }\n",
       "\n",
       "    .dataframe tbody tr th {\n",
       "        vertical-align: top;\n",
       "    }\n",
       "\n",
       "    .dataframe thead th {\n",
       "        text-align: right;\n",
       "    }\n",
       "</style>\n",
       "<table border=\"1\" class=\"dataframe\">\n",
       "  <thead>\n",
       "    <tr style=\"text-align: right;\">\n",
       "      <th></th>\n",
       "      <th>user_age_bin</th>\n",
       "    </tr>\n",
       "  </thead>\n",
       "  <tbody>\n",
       "    <tr>\n",
       "      <th>0</th>\n",
       "      <td>31 - 40</td>\n",
       "    </tr>\n",
       "    <tr>\n",
       "      <th>1</th>\n",
       "      <td>NaN</td>\n",
       "    </tr>\n",
       "    <tr>\n",
       "      <th>2</th>\n",
       "      <td>41 - 50</td>\n",
       "    </tr>\n",
       "    <tr>\n",
       "      <th>3</th>\n",
       "      <td>21 - 30</td>\n",
       "    </tr>\n",
       "    <tr>\n",
       "      <th>4</th>\n",
       "      <td>41 - 50</td>\n",
       "    </tr>\n",
       "  </tbody>\n",
       "</table>\n",
       "</div>"
      ],
      "text/plain": [
       "  user_age_bin\n",
       "0      31 - 40\n",
       "1          NaN\n",
       "2      41 - 50\n",
       "3      21 - 30\n",
       "4      41 - 50"
      ]
     },
     "metadata": {},
     "output_type": "display_data"
    }
   ],
   "source": [
    "# create a new column user_age_bin from user_age group\n",
    "max_age = str(int(df_new.user_age.max()))\n",
    "df_new['user_age_bin'] = df_new['user_age'].apply(lambda x: '10 - 20' if 10<x<=20 else \n",
    "                                                  '21 - 30' if 20<x<=30 else\n",
    "                                                  '31 - 40' if 30<x<=40 else \n",
    "                                                  '41 - 50' if 40<x<=50 else\n",
    "                                                  '51 - 60' if 50<x<=60 else\n",
    "                                                  '61 - 70' if 60<x<=70 else\n",
    "                                                  '71 - 80' if 70<x<=80 else\n",
    "                                                  '81 - '+max_age if 80<x<=float(max_age) else x)\n",
    "\n",
    "# test\n",
    "display(df_new[['user_age_bin']].head())"
   ]
  },
  {
   "cell_type": "code",
   "execution_count": 33,
   "id": "d5a960a4",
   "metadata": {},
   "outputs": [
    {
     "data": {
      "image/png": "[encoded data removed]",
      "text/plain": [
       "<Figure size 576x432 with 1 Axes>"
      ]
     },
     "metadata": {
      "needs_background": "light"
     },
     "output_type": "display_data"
    }
   ],
   "source": [
    "# plot distribution of day of week\n",
    "plt.figure(figsize=[8, 6])\n",
    "base_color = sns.color_palette()[8]\n",
    "sns.countplot(data = df_new.sort_values(['user_age_bin']), x = 'user_age_bin', color = base_color)\n",
    "n_points = df_new.shape[0]\n",
    "user_counts = df_new['user_age_bin'].value_counts()\n",
    "locs, labels = plt.xticks()\n",
    "\n",
    "# print frequency on the bar chart\n",
    "for loc, label in zip(locs, labels):\n",
    "    count = user_counts[label.get_text()]\n",
    "    pct_string = '{:0.1f}%'.format(100*count/n_points)\n",
    "    plt.text(loc, count-8, pct_string, ha='center')\n",
    "\n",
    "plt.title('Distribution of age groups')\n",
    "plt.xlabel('age group (years)')\n",
    "plt.ylabel(\"count\")\n",
    "plt.show()"
   ]
  },
  {
   "cell_type": "markdown",
   "id": "947669a8",
   "metadata": {},
   "source": [
    "Not less than 70% of the riders ranges from age 21 to 40. i.e people of age 21 - 40 took more rides compared to all other age groups. However, I would like to investigate further on the relationship between the age groups and the duration of trips."
   ]
  },
  {
   "cell_type": "markdown",
   "id": "cf999299",
   "metadata": {},
   "source": [
    "# Discuss the distribution(s) of your variable(s) of interest. Were there any unusual points? Did you need to perform any transformations?"
   ]
  },
  {
   "cell_type": "markdown",
   "id": "c952cfba",
   "metadata": {},
   "source": [
    "The variables duration_sec and user_age (gotten from subtracting member_birth_year from the year the data was recorded - 2019) look very right skewed. To treat the duration_sec, I needed to convert the duration from second to minute and then used a log transform which then made the resulting distribution to be slightly unimodal with the peak around 10 minutes while the mean of the distribution was around 12 minutes."
   ]
  },
  {
   "cell_type": "markdown",
   "id": "216b1440",
   "metadata": {},
   "source": [
    "For the transformation of age, since the supposed outliers in the age distribution are realized to be valid years. I was able to bin/group the ages which resulted into a distribution with less skewness."
   ]
  },
  {
   "cell_type": "markdown",
   "id": "4c2fbcb6",
   "metadata": {},
   "source": [
    "I also checked variables like user_type, member_genders and so many other derived variables that are critical to understand the dataset and communicate the data findings. The following summarizes my findings in general:"
   ]
  },
  {
   "cell_type": "markdown",
   "id": "1e284778",
   "metadata": {},
   "source": [
    "The day of the week with the most trips is Thursday followed by Tuesday and wednesday. Most of the people take rides during Weekdays from Monday to Friday compared to weekends\n",
    "The time of the day with the most trips is Afternoon (12:00 - 17:59 hours of the day) followed by Morning (00:00 - 11:59 hours of the day)\n",
    "Most trips (about 90%) are taken by the subscribers and would like to further investigate if this also influences the trip duration\n",
    "Almost 75% of the riders that's taken trips are males which was like 3 times that of the females.\n",
    "Trips are started mostly between 8-9am and 5-6pm (17-18)\n",
    "Not less than 70% of the riders ranges from age 21 to 40, quite a youthful population, but could this relate to longer trip duration?"
   ]
  },
  {
   "cell_type": "markdown",
   "id": "485ceb9e",
   "metadata": {},
   "source": [
    "# Of the features you investigated, were there any unusual distributions? Did you perform any operations on the data to tidy, adjust, or change the form of the data? If so, why did you do this?"
   ]
  },
  {
   "cell_type": "markdown",
   "id": "3f2fec93",
   "metadata": {},
   "source": [
    "The age distribution looked unusual, very old ages are present that seemed like outliers but I thought it was fair to let it be since they are valid. Data types of date related variables were also changed to the appropriate ones."
   ]
  },
  {
   "cell_type": "markdown",
   "id": "40f7eed4",
   "metadata": {},
   "source": [
    "Also, feature engineering was performed to create features that are critical and important to my analysis. It was this feature engineering that gave birth to features like 'day_of_week', 'start_hour', 'time_of_day', 'duration_min', 'user_age' and 'user_age_bin'. I as well dropped variables that aren't of interest in the dataset to tidy up the dataset for exploration."
   ]
  },
  {
   "cell_type": "markdown",
   "id": "3382e0e1",
   "metadata": {},
   "source": [
    "# Bivariate Exploration"
   ]
  },
  {
   "cell_type": "raw",
   "id": "431c61ae",
   "metadata": {},
   "source": [
    "To start off with, I want to look at the pairwise correlations present between features in the data."
   ]
  },
  {
   "cell_type": "code",
   "execution_count": 34,
   "id": "fe15f742",
   "metadata": {},
   "outputs": [],
   "source": [
    "numeric_vars = ['start_hour', 'duration_min', 'user_age' ]\n",
    "categoric_vars = ['user_type', 'member_gender', 'day_of_week', 'time_of_day']"
   ]
  },
  {
   "cell_type": "code",
   "execution_count": 35,
   "id": "a6cf3820",
   "metadata": {},
   "outputs": [
    {
     "data": {
      "image/png": "[encoded data removed]",
      "text/plain": [
       "<Figure size 576x360 with 2 Axes>"
      ]
     },
     "metadata": {
      "needs_background": "light"
     },
     "output_type": "display_data"
    }
   ],
   "source": [
    "# correlation plot\n",
    "plt.figure(figsize = [8, 5])\n",
    "sns.heatmap(df_new[numeric_vars].corr(), annot = True, fmt = '.3f',\n",
    "           cmap = 'vlag_r', center = 0)\n",
    "plt.show()"
   ]
  },
  {
   "cell_type": "code",
   "execution_count": 36,
   "id": "268fc035",
   "metadata": {},
   "outputs": [
    {
     "data": {
      "text/plain": [
       "<seaborn.axisgrid.PairGrid at 0x2462f3cd7c0>"
      ]
     },
     "execution_count": 36,
     "metadata": {},
     "output_type": "execute_result"
    },
    {
     "data": {
      "image/png": "[encoded data removed]",
      "text/plain": [
       "<Figure size 540x540 with 12 Axes>"
      ]
     },
     "metadata": {
      "needs_background": "light"
     },
     "output_type": "display_data"
    }
   ],
   "source": [
    "# plot matrix: sample 1834 trips so that plots are clearer and\n",
    "# they render faster\n",
    "samples = np.random.choice(df_new.shape[0], 1834, replace = False)\n",
    "df_new_samp = df_new.loc[samples,:]\n",
    "\n",
    "g = sns.PairGrid(data = df_new_samp, vars = numeric_vars)\n",
    "g = g.map_diag(plt.hist, bins = 20);\n",
    "g.map_offdiag(plt.scatter)"
   ]
  },
  {
   "cell_type": "markdown",
   "id": "b0ff6902",
   "metadata": {},
   "source": [
    "As it could be seen from the plots, 'start_hour', 'duration_min' and 'user_age' are in no way correlated with one another. However, a slightly negative correlation was found between user age and trip duration. I would further investigate if the age groups (binned age) would have any relationship with the trip duration."
   ]
  },
  {
   "cell_type": "code",
   "execution_count": 40,
   "id": "9c846934",
   "metadata": {},
   "outputs": [
    {
     "data": {
      "text/plain": [
       "Text(0, 0.5, 'trip duration (minute)')"
      ]
     },
     "execution_count": 40,
     "metadata": {},
     "output_type": "execute_result"
    },
    {
     "data": {
      "image/png": "[encoded data removed]",
      "text/plain": [
       "<Figure size 720x576 with 1 Axes>"
      ]
     },
     "metadata": {
      "needs_background": "light"
     },
     "output_type": "display_data"
    }
   ],
   "source": [
    "new_color=['orange', 'deepskyblue']\n",
    "df_new.groupby('user_age_bin')['duration_min'].mean().plot(kind='bar', color=new_color, figsize=(10,8))\n",
    "plt.title('Average trip duration per age group', fontsize=16, y=1.015)\n",
    "plt.xlabel('User age group', labelpad=16)\n",
    "plt.ylabel('trip duration (minute)', labelpad=16)"
   ]
  },
  {
   "cell_type": "markdown",
   "id": "e6c7ba4c",
   "metadata": {},
   "source": [
    "I expected that the young and youthful age groups should have the highest average trip duration because of the strength and agility they would possess but the graph above has proved me wrong. It could be compounded that, trips duration aren't based on how strong and agile the user is. It would however be better and right to say the trip duration is not affected by the user age not considering the extreme age groups (81-141)."
   ]
  },
  {
   "cell_type": "code",
   "execution_count": 41,
   "id": "fc871df0",
   "metadata": {},
   "outputs": [
    {
     "data": {
      "text/plain": [
       "<Figure size 720x720 with 0 Axes>"
      ]
     },
     "metadata": {},
     "output_type": "display_data"
    },
    {
     "data": {
      "image/png": "[encoded data removed]",
      "text/plain": [
       "<Figure size 1296x432 with 8 Axes>"
      ]
     },
     "metadata": {
      "needs_background": "light"
     },
     "output_type": "display_data"
    }
   ],
   "source": [
    "# plot matrix of numeric features against categorical features.\n",
    "# can use a larger sample since there are fewer plots and they're simpler in nature.\n",
    "\n",
    "samples = np.random.choice(df_new.shape[0], 2000, replace = False)\n",
    "df_new_samp = df_new.loc[samples,:]\n",
    "\n",
    "def boxgrid(x, y, **kwargs):\n",
    "    \"\"\" Quick hack for creating box plots with seaborn's PairGrid. \"\"\"\n",
    "    default_color = sns.color_palette()[0]\n",
    "    sns.boxplot(x, y, color = default_color)\n",
    "    plt.xticks(rotation = 30)\n",
    "\n",
    "plt.figure(figsize = [10, 10])\n",
    "g = sns.PairGrid(data = df_new_samp, y_vars = ['duration_min', 'user_age'], x_vars = categoric_vars,\n",
    "                size = 3, aspect = 1.5)\n",
    "g.map(boxgrid)\n",
    "plt.show();"
   ]
  },
  {
   "cell_type": "markdown",
   "id": "a6a70db9",
   "metadata": {},
   "source": [
    "It appears that there is a relationship between the user type variable and the trip duration variable. The customer user type seem to spend longer time on a trip compared to the subscriber counterpart. No other tangible correlation could be seen from any of the above plots. And with this preliminary look at bivariate relationships out of the way, I want to dig into some of the relationships more. I want to see how the day of the week, time of the day and the average trip duration relates to user_types."
   ]
  },
  {
   "cell_type": "markdown",
   "id": "c50bb5cc",
   "metadata": {},
   "source": [
    "# Does the day of the week that most trips are taken dependent on if a user is a subscriber or a customer?"
   ]
  },
  {
   "cell_type": "code",
   "execution_count": 42,
   "id": "f9f9e3a1",
   "metadata": {},
   "outputs": [
    {
     "data": {
      "text/plain": [
       "<seaborn.axisgrid.FacetGrid at 0x24627e486d0>"
      ]
     },
     "execution_count": 42,
     "metadata": {},
     "output_type": "execute_result"
    },
    {
     "data": {
      "image/png": "[encoded data removed]",
      "text/plain": [
       "<Figure size 720x360 with 2 Axes>"
      ]
     },
     "metadata": {
      "needs_background": "light"
     },
     "output_type": "display_data"
    }
   ],
   "source": [
    "g = sns.catplot(data=df_new, x='day_of_week', col=\"user_type\", kind='count', sharey = False,\n",
    "            color = 'deepskyblue', order = weekday)\n",
    "g.set_axis_labels(\"Days of the Week\", \"Bike Rides\")\n",
    "g.set_titles(\"{col_name}\")\n",
    "g.fig.suptitle('Days of the Week Usage Trends by User Type', y=1.03, fontsize=14)\n",
    "g.set_xticklabels(rotation = 45)"
   ]
  },
  {
   "cell_type": "markdown",
   "id": "cb7047eb",
   "metadata": {},
   "source": [
    "From the above bar graph, the day of the week that most trips are taken (Thursday) is NOT dependent on if a user is a subscriber or a customer. From the bar graphs, the trends shows that Customers often use the service during weekends where as Subscribers mostly use the service during regular weekdays from Monday to Friday. We could deduce from this that subscribers might be regularly using the bikes for work and home commute purposes and customers use it for recreational activities during weekends."
   ]
  },
  {
   "cell_type": "markdown",
   "id": "0d2a00f1",
   "metadata": {},
   "source": [
    "# Does the time of the day that most trips are taken dependent on if a user is a subscriber or a customer?"
   ]
  },
  {
   "cell_type": "code",
   "execution_count": 43,
   "id": "85d9d4c1",
   "metadata": {},
   "outputs": [
    {
     "data": {
      "text/plain": [
       "<seaborn.axisgrid.FacetGrid at 0x246309e8940>"
      ]
     },
     "execution_count": 43,
     "metadata": {},
     "output_type": "execute_result"
    },
    {
     "data": {
      "image/png": "[encoded data removed]",
      "text/plain": [
       "<Figure size 720x360 with 2 Axes>"
      ]
     },
     "metadata": {
      "needs_background": "light"
     },
     "output_type": "display_data"
    }
   ],
   "source": [
    "day_time = ['Morning', 'Afternoon', 'Night']\n",
    "g = sns.catplot(data=df_new, x='time_of_day', col=\"user_type\", kind='count', sharey = False,\n",
    "            color = 'deepskyblue', order = day_time)\n",
    "g.set_axis_labels(\"Time of the Day\", \"Bike Rides\")\n",
    "g.set_titles(\"{col_name}\")\n",
    "g.fig.suptitle('Time of the Day Usage Trends by User Type', y=1.03, fontsize=14)\n",
    "g.set_xticklabels(rotation = 45)"
   ]
  },
  {
   "cell_type": "markdown",
   "id": "61d4f1b2",
   "metadata": {},
   "source": [
    "From the above bar graph, the time of the day that most trips are taken (Afternoon and Morning) is slightly dependent on if a user is a subscriber or a customer. From the bar graphs, the trends shows that Customers often start the trip in the afternoon where as Subscribers mostly start the trip in the morning. This further proved that subscribers might be using the bikes for work and home commute purposes and customers use it for recreational activities."
   ]
  },
  {
   "cell_type": "markdown",
   "id": "d04bf491",
   "metadata": {},
   "source": [
    "# Does the average trip duration taken dependent on if a user is a subscriber or a customer?"
   ]
  },
  {
   "cell_type": "code",
   "execution_count": 46,
   "id": "119c7804",
   "metadata": {},
   "outputs": [
    {
     "data": {
      "text/html": [
       "<div>\n",
       "<style scoped>\n",
       "    .dataframe tbody tr th:only-of-type {\n",
       "        vertical-align: middle;\n",
       "    }\n",
       "\n",
       "    .dataframe tbody tr th {\n",
       "        vertical-align: top;\n",
       "    }\n",
       "\n",
       "    .dataframe thead th {\n",
       "        text-align: right;\n",
       "    }\n",
       "</style>\n",
       "<table border=\"1\" class=\"dataframe\">\n",
       "  <thead>\n",
       "    <tr style=\"text-align: right;\">\n",
       "      <th></th>\n",
       "      <th>user_type</th>\n",
       "      <th>duration_min</th>\n",
       "    </tr>\n",
       "  </thead>\n",
       "  <tbody>\n",
       "    <tr>\n",
       "      <th>0</th>\n",
       "      <td>Customer</td>\n",
       "      <td>23.874417</td>\n",
       "    </tr>\n",
       "    <tr>\n",
       "      <th>1</th>\n",
       "      <td>Subscriber</td>\n",
       "      <td>10.671061</td>\n",
       "    </tr>\n",
       "  </tbody>\n",
       "</table>\n",
       "</div>"
      ],
      "text/plain": [
       "    user_type  duration_min\n",
       "0    Customer     23.874417\n",
       "1  Subscriber     10.671061"
      ]
     },
     "metadata": {},
     "output_type": "display_data"
    },
    {
     "data": {
      "image/png": "[encoded data removed]",
      "text/plain": [
       "<Figure size 432x288 with 1 Axes>"
      ]
     },
     "metadata": {
      "needs_background": "light"
     },
     "output_type": "display_data"
    }
   ],
   "source": [
    "# Average trip duration mean plot\n",
    "grouped_user_type_duration = df_new[['user_type','duration_min']].groupby(['user_type'],as_index= False).mean()\n",
    "# show analysis\n",
    "display(grouped_user_type_duration)\n",
    "\n",
    "sns.barplot(x='user_type', y='duration_min', data=grouped_user_type_duration)\n",
    "plt.title(\"Average trip duration by User Types\")\n",
    "plt.ylabel(\"Average Trip Duration (minute)\")\n",
    "plt.show()"
   ]
  },
  {
   "cell_type": "code",
   "execution_count": 47,
   "id": "f7bba73d",
   "metadata": {},
   "outputs": [
    {
     "data": {
      "text/plain": [
       "Text(0.5, 1.0, 'Duration Against User Type')"
      ]
     },
     "execution_count": 47,
     "metadata": {},
     "output_type": "execute_result"
    },
    {
     "data": {
      "image/png": "[encoded data removed]",
      "text/plain": [
       "<Figure size 432x288 with 1 Axes>"
      ]
     },
     "metadata": {
      "needs_background": "light"
     },
     "output_type": "display_data"
    }
   ],
   "source": [
    "# plot relationship between user type and duration\n",
    "samples = np.random.choice(df_new.shape[0], 1834, replace = False)\n",
    "df_new_samp = df_new.loc[samples,:]\n",
    "base_color = sns.color_palette()[0]\n",
    "sns.violinplot(data=df_new_samp, x='user_type', y='duration_min', color=base_color, inner='quartile')\n",
    "plt.xlabel('User Type')\n",
    "plt.ylabel('Duration (min)')\n",
    "plt.title('Duration Against User Type')"
   ]
  },
  {
   "cell_type": "markdown",
   "id": "59f17a37",
   "metadata": {},
   "source": [
    "Subscriber users tend to ride the bikes in lesser duration than customer users. This might be because the subscriber users ride the bikes for regular commutes - work and school, but the customer users might be tourists that use the bikes for traveling around town. The average trip duration IS highly dependent on if a user is a subscriber or just a customer. Customers have two times trip duration lenght of subscribers. Since Customers mostly go on trips by weekends, one would expect that average trip duration should then be the highest on wekends. This would be checked further for confirmation."
   ]
  },
  {
   "cell_type": "markdown",
   "id": "8955a736",
   "metadata": {},
   "source": [
    "# Average trip duration based on The Day of The Week:"
   ]
  },
  {
   "cell_type": "code",
   "execution_count": 48,
   "id": "b7b5d054",
   "metadata": {},
   "outputs": [
    {
     "data": {
      "image/png": "[encoded data removed]",
      "text/plain": [
       "<Figure size 1080x360 with 1 Axes>"
      ]
     },
     "metadata": {
      "needs_background": "light"
     },
     "output_type": "display_data"
    }
   ],
   "source": [
    "weekday_avg_min = df_new[['day_of_week','duration_min']].groupby(['day_of_week'],as_index= False).mean()\n",
    "# plot a line plot\n",
    "plt.figure(figsize=[15,5])\n",
    "sns.lineplot(data=weekday_avg_min, x='day_of_week', y='duration_min',marker='o')\n",
    "plt.ylabel('Average Duration (min)');\n",
    "plt.xlabel('Day of The Week')\n",
    "plt.grid()\n",
    "plt.title('Average Trip Duration Based on The Day of The Week')\n",
    "plt.show()"
   ]
  },
  {
   "cell_type": "markdown",
   "id": "7709ffdb",
   "metadata": {},
   "source": [
    "As expected, Saturdays and Sundays have the longest trip duration since the two days are majorly used by the customers.\n",
    "\n",
    "Relationship between the user types and the trip starting hour"
   ]
  },
  {
   "cell_type": "code",
   "execution_count": 50,
   "id": "bd8233e3",
   "metadata": {},
   "outputs": [
    {
     "data": {
      "image/png": "[encoded data removed]",
      "text/plain": [
       "<Figure size 1152x288 with 2 Axes>"
      ]
     },
     "metadata": {
      "needs_background": "light"
     },
     "output_type": "display_data"
    }
   ],
   "source": [
    "# facetting histograms of start_hour against user_type\n",
    "user_cat_order = df_new['user_type'].value_counts().index\n",
    "bin_edges = np.arange(-0.5, 23.5+1, 1)\n",
    "g = sns.FacetGrid(data = df_new, col = 'user_type', height=4, aspect=2, \n",
    "                 col_order = user_cat_order, sharey=False)\n",
    "g.map(plt.hist, 'start_hour', bins = bin_edges, rwidth = 0.7)\n",
    "for ax in g.axes.flat:\n",
    "    ax.set_ylabel('count')\n",
    "plt.xticks(np.arange(0, 23+1, 1))\n",
    "plt.show()"
   ]
  },
  {
   "cell_type": "markdown",
   "id": "7267900b",
   "metadata": {},
   "source": [
    "Most rides for subscribers started at 8 or 17. While most customer rides started at 17 or 18. This has just confirmed that subscribers could be using the bikes for daily commute while the customers just for leisure rides"
   ]
  },
  {
   "cell_type": "markdown",
   "id": "9e4e7f69",
   "metadata": {},
   "source": [
    "# Does the average trip duration taken dependent on if a user is a subscriber or a customer?"
   ]
  },
  {
   "cell_type": "code",
   "execution_count": 51,
   "id": "3d0a17b2",
   "metadata": {},
   "outputs": [
    {
     "data": {
      "text/html": [
       "<div>\n",
       "<style scoped>\n",
       "    .dataframe tbody tr th:only-of-type {\n",
       "        vertical-align: middle;\n",
       "    }\n",
       "\n",
       "    .dataframe tbody tr th {\n",
       "        vertical-align: top;\n",
       "    }\n",
       "\n",
       "    .dataframe thead th {\n",
       "        text-align: right;\n",
       "    }\n",
       "</style>\n",
       "<table border=\"1\" class=\"dataframe\">\n",
       "  <thead>\n",
       "    <tr style=\"text-align: right;\">\n",
       "      <th></th>\n",
       "      <th>member_gender</th>\n",
       "      <th>duration_min</th>\n",
       "    </tr>\n",
       "  </thead>\n",
       "  <tbody>\n",
       "    <tr>\n",
       "      <th>0</th>\n",
       "      <td>Female</td>\n",
       "      <td>12.984506</td>\n",
       "    </tr>\n",
       "    <tr>\n",
       "      <th>1</th>\n",
       "      <td>Male</td>\n",
       "      <td>11.210651</td>\n",
       "    </tr>\n",
       "    <tr>\n",
       "      <th>2</th>\n",
       "      <td>Other</td>\n",
       "      <td>16.608589</td>\n",
       "    </tr>\n",
       "  </tbody>\n",
       "</table>\n",
       "</div>"
      ],
      "text/plain": [
       "  member_gender  duration_min\n",
       "0        Female     12.984506\n",
       "1          Male     11.210651\n",
       "2         Other     16.608589"
      ]
     },
     "metadata": {},
     "output_type": "display_data"
    },
    {
     "data": {
      "image/png": "[encoded data removed]",
      "text/plain": [
       "<Figure size 432x288 with 1 Axes>"
      ]
     },
     "metadata": {
      "needs_background": "light"
     },
     "output_type": "display_data"
    }
   ],
   "source": [
    "# Average trip duration mean plot\n",
    "grouped_gender_type_duration = df_new[['member_gender','duration_min']].groupby(['member_gender'],as_index= False).mean()\n",
    "# show analysis\n",
    "display(grouped_gender_type_duration)\n",
    "\n",
    "sns.barplot(x='member_gender', y='duration_min', data=grouped_gender_type_duration)\n",
    "plt.title(\"Average trip duration by user gender\")\n",
    "plt.ylabel(\"Average Trip Duration (minute)\")\n",
    "plt.show()"
   ]
  },
  {
   "cell_type": "markdown",
   "id": "88507b1b",
   "metadata": {},
   "source": [
    "Interestingly, eventhough the larger percentage of the users is male, the female tends to go on a longer ride compared to me. Unexpectedly, the \"Other\" type in gender has the highest trip duration on average. I wouldn't investigate this further as no information is known about the other gender."
   ]
  },
  {
   "cell_type": "markdown",
   "id": "e363cad8",
   "metadata": {},
   "source": [
    "# Multivariate Exploration"
   ]
  },
  {
   "cell_type": "markdown",
   "id": "d75b2053",
   "metadata": {},
   "source": [
    "Daily average trip duration for each user_type"
   ]
  },
  {
   "cell_type": "code",
   "execution_count": 53,
   "id": "a90b1990",
   "metadata": {},
   "outputs": [
    {
     "data": {
      "image/png": "[encoded data removed]",
      "text/plain": [
       "<Figure size 720x360 with 1 Axes>"
      ]
     },
     "metadata": {
      "needs_background": "light"
     },
     "output_type": "display_data"
    }
   ],
   "source": [
    "user_weekday_avg_min = df_new.groupby(['user_type','day_of_week']).duration_min.mean()\n",
    "user_weekday_avg_min = user_weekday_avg_min.reset_index()\n",
    "\n",
    "# plot a line plot with colors based on user_type\n",
    "plt.figure(figsize=[10,5])\n",
    "sns.lineplot(data = user_weekday_avg_min, x='day_of_week', y='duration_min', hue='user_type', marker='o')\n",
    "plt.title(\"Daily average trip duration for each user_type\")\n",
    "plt.ylabel('Average Trip Duration (min)');"
   ]
  },
  {
   "cell_type": "markdown",
   "id": "c880964d",
   "metadata": {},
   "source": [
    "# Time of the day average trip duration for each user_type"
   ]
  },
  {
   "cell_type": "code",
   "execution_count": 54,
   "id": "042af33c",
   "metadata": {},
   "outputs": [
    {
     "data": {
      "image/png": "[encoded data removed]",
      "text/plain": [
       "<Figure size 720x360 with 1 Axes>"
      ]
     },
     "metadata": {
      "needs_background": "light"
     },
     "output_type": "display_data"
    }
   ],
   "source": [
    "user_daytime_avg_min = df_new.groupby(['user_type','time_of_day']).duration_min.mean()\n",
    "user_daytime_avg_min = user_daytime_avg_min.reset_index()\n",
    "\n",
    "# plot a line plot with colors based on user_type\n",
    "plt.figure(figsize=[10,5])\n",
    "sns.lineplot(data = user_daytime_avg_min, x='time_of_day', y='duration_min', hue='user_type', marker='o')\n",
    "plt.title(\"Time of the day average trip duration for each user_type\")\n",
    "plt.ylabel('Average Trip Duration (min)');"
   ]
  }
 ],
 "metadata": {
  "kernelspec": {
   "display_name": "Python 3 (ipykernel)",
   "language": "python",
   "name": "python3"
  },
  "language_info": {
   "codemirror_mode": {
    "name": "ipython",
    "version": 3
   },
   "file_extension": ".py",
   "mimetype": "text/x-python",
   "name": "python",
   "nbconvert_exporter": "python",
   "pygments_lexer": "ipython3",
   "version": "3.9.12"
  }
 },
 "nbformat": 4,
 "nbformat_minor": 5
}
